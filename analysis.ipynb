{
 "cells": [
  {
   "cell_type": "code",
   "execution_count": 2,
   "source": [
    "import pandas as pd\r\n",
    "import matplotlib.pyplot as plt"
   ],
   "outputs": [],
   "metadata": {}
  },
  {
   "cell_type": "code",
   "execution_count": 3,
   "source": [
    "df = pd.read_csv(\"./static/Insta_history.csv\")\r\n",
    "df.head(2)"
   ],
   "outputs": [
    {
     "output_type": "execute_result",
     "data": {
      "text/html": [
       "<div>\n",
       "<style scoped>\n",
       "    .dataframe tbody tr th:only-of-type {\n",
       "        vertical-align: middle;\n",
       "    }\n",
       "\n",
       "    .dataframe tbody tr th {\n",
       "        vertical-align: top;\n",
       "    }\n",
       "\n",
       "    .dataframe thead th {\n",
       "        text-align: right;\n",
       "    }\n",
       "</style>\n",
       "<table border=\"1\" class=\"dataframe\">\n",
       "  <thead>\n",
       "    <tr style=\"text-align: right;\">\n",
       "      <th></th>\n",
       "      <th>Currency</th>\n",
       "      <th>Side</th>\n",
       "      <th>Total Quantity</th>\n",
       "      <th>Price Per Unit</th>\n",
       "      <th>Total Amount</th>\n",
       "      <th>Status</th>\n",
       "      <th>Created At</th>\n",
       "      <th>Updated At</th>\n",
       "    </tr>\n",
       "  </thead>\n",
       "  <tbody>\n",
       "    <tr>\n",
       "      <th>0</th>\n",
       "      <td>ADA</td>\n",
       "      <td>buy</td>\n",
       "      <td>1.054335</td>\n",
       "      <td>189.228327</td>\n",
       "      <td>199.510000</td>\n",
       "      <td>filled</td>\n",
       "      <td>2021-09-16 15:03:07 UTC</td>\n",
       "      <td>2021-09-16 15:03:07 UTC</td>\n",
       "    </tr>\n",
       "    <tr>\n",
       "      <th>1</th>\n",
       "      <td>AVAX</td>\n",
       "      <td>sell</td>\n",
       "      <td>0.040000</td>\n",
       "      <td>4987.774338</td>\n",
       "      <td>199.510974</td>\n",
       "      <td>filled</td>\n",
       "      <td>2021-09-16 14:57:11 UTC</td>\n",
       "      <td>2021-09-16 14:57:11 UTC</td>\n",
       "    </tr>\n",
       "  </tbody>\n",
       "</table>\n",
       "</div>"
      ],
      "text/plain": [
       "  Currency  Side  Total Quantity  Price Per Unit  Total Amount  Status  \\\n",
       "0      ADA   buy        1.054335      189.228327    199.510000  filled   \n",
       "1     AVAX  sell        0.040000     4987.774338    199.510974  filled   \n",
       "\n",
       "                Created At               Updated At  \n",
       "0  2021-09-16 15:03:07 UTC  2021-09-16 15:03:07 UTC  \n",
       "1  2021-09-16 14:57:11 UTC  2021-09-16 14:57:11 UTC  "
      ]
     },
     "metadata": {},
     "execution_count": 3
    }
   ],
   "metadata": {}
  },
  {
   "cell_type": "code",
   "execution_count": 4,
   "source": [
    "df.set_index(df[\"Currency\"], inplace=True)"
   ],
   "outputs": [],
   "metadata": {}
  },
  {
   "cell_type": "code",
   "execution_count": 5,
   "source": [
    "df_al = df.copy()\r\n",
    "df_al.drop([\"Updated At\", \"Status\"], axis=1, inplace=True)"
   ],
   "outputs": [],
   "metadata": {}
  },
  {
   "cell_type": "code",
   "execution_count": 6,
   "source": [
    "df_al[\"Created At\"] = df_al[\"Created At\"].apply(lambda x: x[:10])\r\n",
    "df_al.head(2)"
   ],
   "outputs": [
    {
     "output_type": "execute_result",
     "data": {
      "text/html": [
       "<div>\n",
       "<style scoped>\n",
       "    .dataframe tbody tr th:only-of-type {\n",
       "        vertical-align: middle;\n",
       "    }\n",
       "\n",
       "    .dataframe tbody tr th {\n",
       "        vertical-align: top;\n",
       "    }\n",
       "\n",
       "    .dataframe thead th {\n",
       "        text-align: right;\n",
       "    }\n",
       "</style>\n",
       "<table border=\"1\" class=\"dataframe\">\n",
       "  <thead>\n",
       "    <tr style=\"text-align: right;\">\n",
       "      <th></th>\n",
       "      <th>Currency</th>\n",
       "      <th>Side</th>\n",
       "      <th>Total Quantity</th>\n",
       "      <th>Price Per Unit</th>\n",
       "      <th>Total Amount</th>\n",
       "      <th>Created At</th>\n",
       "    </tr>\n",
       "    <tr>\n",
       "      <th>Currency</th>\n",
       "      <th></th>\n",
       "      <th></th>\n",
       "      <th></th>\n",
       "      <th></th>\n",
       "      <th></th>\n",
       "      <th></th>\n",
       "    </tr>\n",
       "  </thead>\n",
       "  <tbody>\n",
       "    <tr>\n",
       "      <th>ADA</th>\n",
       "      <td>ADA</td>\n",
       "      <td>buy</td>\n",
       "      <td>1.054335</td>\n",
       "      <td>189.228327</td>\n",
       "      <td>199.510000</td>\n",
       "      <td>2021-09-16</td>\n",
       "    </tr>\n",
       "    <tr>\n",
       "      <th>AVAX</th>\n",
       "      <td>AVAX</td>\n",
       "      <td>sell</td>\n",
       "      <td>0.040000</td>\n",
       "      <td>4987.774338</td>\n",
       "      <td>199.510974</td>\n",
       "      <td>2021-09-16</td>\n",
       "    </tr>\n",
       "  </tbody>\n",
       "</table>\n",
       "</div>"
      ],
      "text/plain": [
       "         Currency  Side  Total Quantity  Price Per Unit  Total Amount  \\\n",
       "Currency                                                                \n",
       "ADA           ADA   buy        1.054335      189.228327    199.510000   \n",
       "AVAX         AVAX  sell        0.040000     4987.774338    199.510974   \n",
       "\n",
       "          Created At  \n",
       "Currency              \n",
       "ADA       2021-09-16  \n",
       "AVAX      2021-09-16  "
      ]
     },
     "metadata": {},
     "execution_count": 6
    }
   ],
   "metadata": {}
  },
  {
   "cell_type": "code",
   "execution_count": 7,
   "source": [
    "df_al.loc[\"ADA\", [\"Total Quantity\", \"Created At\"]]"
   ],
   "outputs": [
    {
     "output_type": "execute_result",
     "data": {
      "text/html": [
       "<div>\n",
       "<style scoped>\n",
       "    .dataframe tbody tr th:only-of-type {\n",
       "        vertical-align: middle;\n",
       "    }\n",
       "\n",
       "    .dataframe tbody tr th {\n",
       "        vertical-align: top;\n",
       "    }\n",
       "\n",
       "    .dataframe thead th {\n",
       "        text-align: right;\n",
       "    }\n",
       "</style>\n",
       "<table border=\"1\" class=\"dataframe\">\n",
       "  <thead>\n",
       "    <tr style=\"text-align: right;\">\n",
       "      <th></th>\n",
       "      <th>Total Quantity</th>\n",
       "      <th>Created At</th>\n",
       "    </tr>\n",
       "    <tr>\n",
       "      <th>Currency</th>\n",
       "      <th></th>\n",
       "      <th></th>\n",
       "    </tr>\n",
       "  </thead>\n",
       "  <tbody>\n",
       "    <tr>\n",
       "      <th>ADA</th>\n",
       "      <td>1.054335</td>\n",
       "      <td>2021-09-16</td>\n",
       "    </tr>\n",
       "    <tr>\n",
       "      <th>ADA</th>\n",
       "      <td>1.490000</td>\n",
       "      <td>2021-08-11</td>\n",
       "    </tr>\n",
       "    <tr>\n",
       "      <th>ADA</th>\n",
       "      <td>1.496269</td>\n",
       "      <td>2021-08-11</td>\n",
       "    </tr>\n",
       "    <tr>\n",
       "      <th>ADA</th>\n",
       "      <td>3.380000</td>\n",
       "      <td>2021-06-30</td>\n",
       "    </tr>\n",
       "    <tr>\n",
       "      <th>ADA</th>\n",
       "      <td>3.373755</td>\n",
       "      <td>2021-05-24</td>\n",
       "    </tr>\n",
       "    <tr>\n",
       "      <th>ADA</th>\n",
       "      <td>1.080000</td>\n",
       "      <td>2021-05-23</td>\n",
       "    </tr>\n",
       "    <tr>\n",
       "      <th>ADA</th>\n",
       "      <td>1.087466</td>\n",
       "      <td>2021-05-15</td>\n",
       "    </tr>\n",
       "  </tbody>\n",
       "</table>\n",
       "</div>"
      ],
      "text/plain": [
       "          Total Quantity  Created At\n",
       "Currency                            \n",
       "ADA             1.054335  2021-09-16\n",
       "ADA             1.490000  2021-08-11\n",
       "ADA             1.496269  2021-08-11\n",
       "ADA             3.380000  2021-06-30\n",
       "ADA             3.373755  2021-05-24\n",
       "ADA             1.080000  2021-05-23\n",
       "ADA             1.087466  2021-05-15"
      ]
     },
     "metadata": {},
     "execution_count": 7
    }
   ],
   "metadata": {}
  },
  {
   "cell_type": "code",
   "execution_count": 40,
   "source": [
    "import json\r\n"
   ],
   "outputs": [],
   "metadata": {}
  },
  {
   "cell_type": "code",
   "execution_count": 36,
   "source": [
    "quantity, date = list(df_al.loc[\"ADA\"][\"Total Quantity\"]), list(df_al.loc[\"ADA\"][\"Created At\"])"
   ],
   "outputs": [],
   "metadata": {}
  },
  {
   "cell_type": "markdown",
   "source": [],
   "metadata": {}
  },
  {
   "cell_type": "code",
   "execution_count": 41,
   "source": [
    "type(quantity)"
   ],
   "outputs": [
    {
     "output_type": "execute_result",
     "data": {
      "text/plain": [
       "list"
      ]
     },
     "metadata": {},
     "execution_count": 41
    }
   ],
   "metadata": {}
  }
 ],
 "metadata": {
  "orig_nbformat": 4,
  "language_info": {
   "name": "python",
   "version": "3.9.5",
   "mimetype": "text/x-python",
   "codemirror_mode": {
    "name": "ipython",
    "version": 3
   },
   "pygments_lexer": "ipython3",
   "nbconvert_exporter": "python",
   "file_extension": ".py"
  },
  "kernelspec": {
   "name": "python3",
   "display_name": "Python 3.9.5 64-bit ('base': conda)"
  },
  "interpreter": {
   "hash": "e0eaf2644c1c4020688505c0035fb48e38d665d784f0001dbc97b498a3b08d01"
  }
 },
 "nbformat": 4,
 "nbformat_minor": 2
}